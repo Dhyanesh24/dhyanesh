{
 "cells": [
  {
   "cell_type": "code",
   "execution_count": 1,
   "id": "6fcefc3b",
   "metadata": {},
   "outputs": [
    {
     "name": "stdout",
     "output_type": "stream",
     "text": [
      "\n",
      "With this date object, create a series with datetime index:\n",
      " 2020-01-05   -0.644872\n",
      "2020-01-10    1.377373\n",
      "2020-01-15   -0.341926\n",
      "2020-01-20    0.954743\n",
      "2020-01-25   -2.171728\n",
      "dtype: float64\n"
     ]
    }
   ],
   "source": [
    "import pandas as pd\n",
    "import numpy as np\n",
    "from datetime import datetime\n",
    "dates = [datetime(2020,1,5),\n",
    " datetime(2020,1,10),\n",
    " datetime(2020,1,15),\n",
    " datetime(2020,1,20),\n",
    " datetime(2020,1,25)]\n",
    "ts = pd.Series(np.random.randn(5), index=dates)\n",
    "print(\"\\nWith this date object, create a series with datetime index:\\n\",ts)"
   ]
  },
  {
   "cell_type": "code",
   "execution_count": 2,
   "id": "55371afa",
   "metadata": {},
   "outputs": [
    {
     "name": "stdout",
     "output_type": "stream",
     "text": [
      "\n",
      "Truncate method to truncate datetime series \n",
      " 2020-01-05   -0.644872\n",
      "2020-01-10    1.377373\n",
      "2020-01-15   -0.341926\n",
      "dtype: float64\n"
     ]
    }
   ],
   "source": [
    "res=ts.truncate(after=\"1/15/2020\")\n",
    "print(\"\\nTruncate method to truncate datetime series \\n\", res)"
   ]
  },
  {
   "cell_type": "code",
   "execution_count": 3,
   "id": "a1e57933",
   "metadata": {},
   "outputs": [
    {
     "name": "stdout",
     "output_type": "stream",
     "text": [
      "\n",
      "Date range with day periods.\n",
      " DatetimeIndex(['2022-10-02', '2022-10-09', '2022-10-16', '2022-10-23',\n",
      "               '2022-10-30', '2022-11-06', '2022-11-13', '2022-11-20',\n",
      "               '2022-11-27', '2022-12-04'],\n",
      "              dtype='datetime64[ns]', freq='W-SUN')\n"
     ]
    }
   ],
   "source": [
    "da=pd.date_range(\"10/1/2022\", periods=10, freq=\"W-SUN\")\n",
    "print(\"\\nDate range with day periods.\\n\",da)"
   ]
  },
  {
   "cell_type": "code",
   "execution_count": 4,
   "id": "f0a3676f",
   "metadata": {},
   "outputs": [
    {
     "name": "stdout",
     "output_type": "stream",
     "text": [
      "\n",
      "Duplicate datetime index:\n",
      " 2020-01-01    0\n",
      "2020-01-02    1\n",
      "2020-01-02    2\n",
      "2020-01-02    3\n",
      "2020-01-03    4\n",
      "dtype: int64\n"
     ]
    }
   ],
   "source": [
    "date=pd.DatetimeIndex([\"1/1/2020\",\"1/2/2020\",\"1/2/2020\",\"1/2/2020\",\"1/3/2020\"])\n",
    "ts1=pd.Series(np.arange(5), index=date)\n",
    "print(\"\\nDuplicate datetime index:\\n\",ts1)"
   ]
  },
  {
   "cell_type": "code",
   "execution_count": 5,
   "id": "fa4ca3a6",
   "metadata": {},
   "outputs": [
    {
     "name": "stdout",
     "output_type": "stream",
     "text": [
      "\n",
      "Repeated date counts:\n",
      " 2020-01-01    1\n",
      "2020-01-02    3\n",
      "2020-01-03    1\n",
      "dtype: int64\n"
     ]
    }
   ],
   "source": [
    "group=ts1.groupby(level=0)\n",
    "print(\"\\nRepeated date counts:\\n\",group.count())"
   ]
  },
  {
   "cell_type": "code",
   "execution_count": 6,
   "id": "86f1baef",
   "metadata": {},
   "outputs": [
    {
     "name": "stdout",
     "output_type": "stream",
     "text": [
      "\n",
      "Multi-column DataFrame with datatime index:\n",
      "                    A         B         C         D\n",
      "2022-10-02  0.121712 -0.544749 -0.152724  1.287005\n",
      "2022-10-09 -0.418162  0.374659  0.761317  0.341433\n",
      "2022-10-16 -1.741379 -1.466083 -1.258837  0.800681\n",
      "2022-10-23  0.518008 -0.882167 -0.651601  0.068940\n",
      "2022-10-30 -1.272858 -0.623684  0.652464 -0.908019\n",
      "2022-11-06  2.216922 -1.291849 -1.142168  0.048674\n",
      "2022-11-13 -0.858099 -1.840720 -0.918047  1.135797\n",
      "2022-11-20 -0.174152  0.866788 -1.186149 -1.797514\n",
      "2022-11-27  0.013779 -0.221864 -0.047016  0.415082\n",
      "2022-12-04  0.959321 -0.111622 -0.741537 -0.463072\n"
     ]
    }
   ],
   "source": [
    "long_df=pd.DataFrame(np.random.randn(10,4),index=da,columns=list(\"ABCD\"))\n",
    "print(\"\\nMulti-column DataFrame with datatime index:\\n\",long_df)"
   ]
  },
  {
   "cell_type": "code",
   "execution_count": null,
   "id": "a4a8d4b4",
   "metadata": {},
   "outputs": [],
   "source": []
  }
 ],
 "metadata": {
  "kernelspec": {
   "display_name": "Python 3 (ipykernel)",
   "language": "python",
   "name": "python3"
  },
  "language_info": {
   "codemirror_mode": {
    "name": "ipython",
    "version": 3
   },
   "file_extension": ".py",
   "mimetype": "text/x-python",
   "name": "python",
   "nbconvert_exporter": "python",
   "pygments_lexer": "ipython3",
   "version": "3.11.5"
  }
 },
 "nbformat": 4,
 "nbformat_minor": 5
}
