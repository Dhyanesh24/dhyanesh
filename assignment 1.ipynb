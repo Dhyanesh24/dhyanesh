{
 "cells": [
  {
   "cell_type": "code",
   "execution_count": 4,
   "id": "be939af8",
   "metadata": {},
   "outputs": [
    {
     "name": "stdout",
     "output_type": "stream",
     "text": [
      "\n",
      " array element type: int32\n",
      "\n",
      " shape of array: (10,)\n",
      "\n",
      " size of array: 10\n",
      "[10  9  8  7  6  5  4  3  2  1]\n",
      "[ 8  9 10]\n"
     ]
    }
   ],
   "source": [
    "import numpy as np\n",
    "a=np.array([1,2,3,4,5,6,7,8,9,10])\n",
    "print(\"\\n array element type:\",a.dtype)\n",
    "print(\"\\n shape of array:\",a.shape)\n",
    "print(\"\\n size of array:\",a.size)\n",
    "reversed=a[::-1]\n",
    "print(reversed)\n",
    "slice1=a[2:7]\n",
    "print(a[a>7])"
   ]
  },
  {
   "cell_type": "code",
   "execution_count": 6,
   "id": "c2df2bb5",
   "metadata": {},
   "outputs": [
    {
     "name": "stdout",
     "output_type": "stream",
     "text": [
      "\n",
      " reshaped array:\n",
      " [[ 3  1  7  4]\n",
      " [ 2  9 10  6]\n",
      " [ 2 11  2  5]]\n",
      "[[ 1  3  7]\n",
      " [ 2  4  9]\n",
      " [ 2  6 10]\n",
      " [ 2  5 11]]\n",
      "[[10  6  2]\n",
      " [11  2  5]]\n",
      "[ 3  4 10 11]\n",
      "[4 2 9]\n"
     ]
    }
   ],
   "source": [
    "arr=np.array([[3,1,7],[4,2,9],[10,6,2],[11,2,5]])\n",
    "newarr=arr.reshape([3,4])\n",
    "print(\"\\n reshaped array:\\n\",newarr)\n",
    "a=np.array([[7,3,1],[9,4,2],[6,10,2],[11,5,2]])\n",
    "print(np.sort(a))\n",
    "slice1=arr[2:6]\n",
    "print(slice1)\n",
    "col=arr[:,0]\n",
    "print(col)\n",
    "row=arr[1,:]\n",
    "print(row)"
   ]
  },
  {
   "cell_type": "code",
   "execution_count": null,
   "id": "19eb53e5",
   "metadata": {},
   "outputs": [],
   "source": []
  }
 ],
 "metadata": {
  "kernelspec": {
   "display_name": "Python 3 (ipykernel)",
   "language": "python",
   "name": "python3"
  },
  "language_info": {
   "codemirror_mode": {
    "name": "ipython",
    "version": 3
   },
   "file_extension": ".py",
   "mimetype": "text/x-python",
   "name": "python",
   "nbconvert_exporter": "python",
   "pygments_lexer": "ipython3",
   "version": "3.11.3"
  }
 },
 "nbformat": 4,
 "nbformat_minor": 5
}
