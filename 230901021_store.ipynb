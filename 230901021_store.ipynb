{
 "cells": [
  {
   "cell_type": "code",
   "execution_count": 1,
   "id": "6542f565",
   "metadata": {},
   "outputs": [
    {
     "name": "stdout",
     "output_type": "stream",
     "text": [
      "       a  b  c\n",
      "one    1  2  3\n",
      "two    4  5  6\n",
      "three  7  8  9\n"
     ]
    }
   ],
   "source": [
    "import pandas as pd\n",
    "df=pd.DataFrame([[1,2,3],[4,5,6],[7,8,9]],index=['one','two','three'],columns=['a','b','c'])\n",
    "print(df)"
   ]
  },
  {
   "cell_type": "code",
   "execution_count": 6,
   "id": "1edf048f",
   "metadata": {},
   "outputs": [],
   "source": [
    "df.to_excel(\"D:\\dhananjayan.xlsx\")\n",
    "df.to_excel(\"D:\\dinesh.xlsx\")"
   ]
  },
  {
   "cell_type": "code",
   "execution_count": 9,
   "id": "e6c18460",
   "metadata": {},
   "outputs": [],
   "source": [
    "df=pd.DataFrame([[10,20,30],[40,50,60],[70,80,90]],index=['four','five','six'],columns=['x','y','z'])\n",
    "df.to_excel(\"D:\\dhananjayan.xlsx\",sheet_name=\"marks\")"
   ]
  },
  {
   "cell_type": "code",
   "execution_count": 19,
   "id": "7f533416",
   "metadata": {},
   "outputs": [],
   "source": [
    "x=pd.read_excel(\"D:\\dhananjayan.xlsx\")\n",
    "y=pd.read_excel(\"D:\\dinesh.xlsx\")\n",
    "#z=x.merge(y)\n",
    "z=pd.concat([x,y])\n",
    "z.to_excel(\"D:\\elan.xlsx\")"
   ]
  },
  {
   "cell_type": "code",
   "execution_count": 5,
   "id": "736718bf",
   "metadata": {},
   "outputs": [
    {
     "name": "stdout",
     "output_type": "stream",
     "text": [
      "  Unnamed: 0   x   y   z\n",
      "0       four  10  20  30\n",
      "1       five  40  50  60\n",
      "2        six  70  80  90\n",
      "['Unnamed: 0', 'x', 'y', 'z']\n",
      "3\n"
     ]
    }
   ],
   "source": [
    "import pandas as pd\n",
    "df=pd.read_excel(\"D:\\dhananjayan.xlsx\")\n",
    "print(df)\n",
    "print(list(df))\n",
    "print(format(len(df)))"
   ]
  },
  {
   "cell_type": "code",
   "execution_count": null,
   "id": "3ec0b737",
   "metadata": {},
   "outputs": [],
   "source": []
  }
 ],
 "metadata": {
  "kernelspec": {
   "display_name": "Python 3 (ipykernel)",
   "language": "python",
   "name": "python3"
  },
  "language_info": {
   "codemirror_mode": {
    "name": "ipython",
    "version": 3
   },
   "file_extension": ".py",
   "mimetype": "text/x-python",
   "name": "python",
   "nbconvert_exporter": "python",
   "pygments_lexer": "ipython3",
   "version": "3.11.3"
  }
 },
 "nbformat": 4,
 "nbformat_minor": 5
}
