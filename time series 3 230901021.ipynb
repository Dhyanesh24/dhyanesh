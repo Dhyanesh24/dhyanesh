{
 "cells": [
  {
   "cell_type": "code",
   "execution_count": 1,
   "id": "ebbe2653",
   "metadata": {},
   "outputs": [
    {
     "name": "stdout",
     "output_type": "stream",
     "text": [
      "Date Index \n",
      " 2011-01-02    1.163426\n",
      "2011-01-05   -0.040902\n",
      "2011-01-07    0.209132\n",
      "2011-01-08   -2.022810\n",
      "2011-01-10   -0.064684\n",
      "2011-01-12    1.101198\n",
      "dtype: float64\n"
     ]
    }
   ],
   "source": [
    "import pandas as pd\n",
    "import numpy as np\n",
    "from datetime import datetime\n",
    "dates = [datetime(2011, 1, 2),\n",
    "datetime(2011, 1, 5),\n",
    "datetime(2011, 1, 7),\n",
    "datetime(2011, 1, 8),\n",
    "datetime(2011, 1, 10),\n",
    "datetime(2011, 1, 12)]\n",
    "ts = pd.Series(np.random.randn(6), index=dates)\n",
    "print(\"Date Index \\n\",ts)"
   ]
  },
  {
   "cell_type": "code",
   "execution_count": 2,
   "id": "8cba522f",
   "metadata": {},
   "outputs": [
    {
     "name": "stdout",
     "output_type": "stream",
     "text": [
      "\n",
      "Date Index alone from the series: \n",
      " DatetimeIndex(['2011-01-02', '2011-01-05', '2011-01-07', '2011-01-08',\n",
      "               '2011-01-10', '2011-01-12'],\n",
      "              dtype='datetime64[ns]', freq=None)\n"
     ]
    }
   ],
   "source": [
    "print(\"\\nDate Index alone from the series: \\n\",ts.index)"
   ]
  },
  {
   "cell_type": "code",
   "execution_count": 3,
   "id": "4daf705d",
   "metadata": {},
   "outputs": [
    {
     "name": "stdout",
     "output_type": "stream",
     "text": [
      "\n",
      "Second index:\n",
      " 2011-01-07 00:00:00\n"
     ]
    }
   ],
   "source": [
    "stamp=ts.index[2]\n",
    "print(\"\\nSecond index:\\n\", stamp)"
   ]
  },
  {
   "cell_type": "code",
   "execution_count": 4,
   "id": "5b6a7a6e",
   "metadata": {},
   "outputs": [
    {
     "name": "stdout",
     "output_type": "stream",
     "text": [
      "\n",
      "Daterange up to 1000 days:\n",
      " 2000-01-01   -0.139981\n",
      "2000-01-02   -0.416796\n",
      "2000-01-03    1.781565\n",
      "2000-01-04   -2.135420\n",
      "2000-01-05   -2.305590\n",
      "                ...   \n",
      "2002-09-22   -0.309326\n",
      "2002-09-23    1.032860\n",
      "2002-09-24   -1.278800\n",
      "2002-09-25   -1.906626\n",
      "2002-09-26    0.614856\n",
      "Freq: D, Length: 1000, dtype: float64\n"
     ]
    }
   ],
   "source": [
    "longer_ts=pd.Series(np.random.randn(1000),\n",
    " index=pd.date_range(\"2000-01-01\",periods=1000))\n",
    "print(\"\\nDaterange up to 1000 days:\\n\",longer_ts)"
   ]
  },
  {
   "cell_type": "code",
   "execution_count": 5,
   "id": "f7f1412d",
   "metadata": {},
   "outputs": [
    {
     "name": "stdout",
     "output_type": "stream",
     "text": [
      "\n",
      "Date range-2001 year:\n",
      " 2001-01-01    0.374690\n",
      "2001-01-02   -0.399714\n",
      "2001-01-03   -0.313310\n",
      "2001-01-04    0.722860\n",
      "2001-01-05    1.047532\n",
      "                ...   \n",
      "2001-12-27    0.770371\n",
      "2001-12-28    1.762997\n",
      "2001-12-29   -1.473937\n",
      "2001-12-30   -1.145834\n",
      "2001-12-31    2.143194\n",
      "Freq: D, Length: 365, dtype: float64\n"
     ]
    }
   ],
   "source": [
    "print(\"\\nDate range-2001 year:\\n\", longer_ts[\"2001\"])"
   ]
  },
  {
   "cell_type": "code",
   "execution_count": 6,
   "id": "7769d44d",
   "metadata": {},
   "outputs": [
    {
     "name": "stdout",
     "output_type": "stream",
     "text": [
      "\n",
      "Date range-05 month 2001 year:\n",
      " 2001-05-01   -1.210652\n",
      "2001-05-02   -1.360693\n",
      "2001-05-03    1.233265\n",
      "2001-05-04   -0.245144\n",
      "2001-05-05   -1.351408\n",
      "2001-05-06    0.245824\n",
      "2001-05-07   -0.096654\n",
      "2001-05-08   -1.346409\n",
      "2001-05-09   -1.131596\n",
      "2001-05-10    0.390512\n",
      "2001-05-11    1.071239\n",
      "2001-05-12    0.589239\n",
      "2001-05-13    0.914096\n",
      "2001-05-14    0.352718\n",
      "2001-05-15    1.289170\n",
      "2001-05-16    0.010467\n",
      "2001-05-17    1.637848\n",
      "2001-05-18    0.866927\n",
      "2001-05-19    1.067287\n",
      "2001-05-20    0.636447\n",
      "2001-05-21   -0.878412\n",
      "2001-05-22   -1.586346\n",
      "2001-05-23   -0.054641\n",
      "2001-05-24    0.478863\n",
      "2001-05-25   -2.655411\n",
      "2001-05-26    0.455577\n",
      "2001-05-27    0.333943\n",
      "2001-05-28   -0.913640\n",
      "2001-05-29   -0.124637\n",
      "2001-05-30   -0.648996\n",
      "2001-05-31   -1.056132\n",
      "Freq: D, dtype: float64\n"
     ]
    }
   ],
   "source": [
    "print(\"\\nDate range-05 month 2001 year:\\n\", longer_ts[\"2001-05\"])"
   ]
  },
  {
   "cell_type": "code",
   "execution_count": 7,
   "id": "5baad316",
   "metadata": {},
   "outputs": [
    {
     "name": "stdout",
     "output_type": "stream",
     "text": [
      "\n",
      "Date range-first few dates in 2000 year:\n",
      " 2000-01-01   -0.139981\n",
      "2000-01-02   -0.416796\n",
      "2000-01-03    1.781565\n",
      "2000-01-04   -2.135420\n",
      "2000-01-05   -2.305590\n",
      "Freq: D, dtype: float64\n"
     ]
    }
   ],
   "source": [
    "print(\"\\nDate range-first few dates in 2000 year:\\n\",longer_ts[\"2000\"].head())"
   ]
  },
  {
   "cell_type": "code",
   "execution_count": 8,
   "id": "ec00128d",
   "metadata": {},
   "outputs": [
    {
     "name": "stdout",
     "output_type": "stream",
     "text": [
      "\n",
      "Date range-first 15 dates in 02 month 2001 year:\n",
      " 2000-02-01   -2.120245\n",
      "2000-02-02    0.805655\n",
      "2000-02-03    0.378393\n",
      "2000-02-04   -0.501109\n",
      "2000-02-05   -1.856273\n",
      "2000-02-06    0.270587\n",
      "2000-02-07    1.438983\n",
      "2000-02-08   -0.586563\n",
      "2000-02-09   -0.402149\n",
      "2000-02-10    0.299795\n",
      "2000-02-11    0.469992\n",
      "2000-02-12    0.038833\n",
      "2000-02-13    0.192978\n",
      "2000-02-14   -0.281115\n",
      "2000-02-15    0.116600\n",
      "Freq: D, dtype: float64\n"
     ]
    }
   ],
   "source": [
    "print(\"\\nDate range-first 15 dates in 02 month 2001 year:\\n\",longer_ts[\"2000-02\"].head(15))"
   ]
  },
  {
   "cell_type": "code",
   "execution_count": 9,
   "id": "eabdfd60",
   "metadata": {},
   "outputs": [
    {
     "name": "stdout",
     "output_type": "stream",
     "text": [
      "\n",
      "Date range-rom 26-9-2001:\n",
      " 2000-09-26   -1.105026\n",
      "2000-09-27   -0.252454\n",
      "2000-09-28    1.240832\n",
      "2000-09-29   -0.750078\n",
      "2000-09-30   -0.361295\n",
      "                ...   \n",
      "2002-09-22   -0.309326\n",
      "2002-09-23    1.032860\n",
      "2002-09-24   -1.278800\n",
      "2002-09-25   -1.906626\n",
      "2002-09-26    0.614856\n",
      "Freq: D, Length: 731, dtype: float64\n"
     ]
    }
   ],
   "source": [
    "print(\"\\nDate range-rom 26-9-2001:\\n\",longer_ts[datetime(2000,9,26):])"
   ]
  },
  {
   "cell_type": "code",
   "execution_count": 10,
   "id": "7c08cd37",
   "metadata": {},
   "outputs": [
    {
     "name": "stdout",
     "output_type": "stream",
     "text": [
      "\n",
      "Date range from 26-9-2001 to 25-9- 2002:\n",
      " 2001-09-26   -1.131859\n",
      "2001-09-27   -0.965327\n",
      "2001-09-28    0.112355\n",
      "2001-09-29    1.051409\n",
      "2001-09-30   -1.197446\n",
      "                ...   \n",
      "2002-09-21    0.569862\n",
      "2002-09-22   -0.309326\n",
      "2002-09-23    1.032860\n",
      "2002-09-24   -1.278800\n",
      "2002-09-25   -1.906626\n",
      "Freq: D, Length: 365, dtype: float64\n"
     ]
    }
   ],
   "source": [
    "print(\"\\nDate range from 26-9-2001 to 25-9- 2002:\\n\",longer_ts[datetime(2001,9,26):datetime(2002,9,25)])"
   ]
  },
  {
   "cell_type": "code",
   "execution_count": null,
   "id": "a6faa9bc",
   "metadata": {},
   "outputs": [],
   "source": []
  }
 ],
 "metadata": {
  "kernelspec": {
   "display_name": "Python 3 (ipykernel)",
   "language": "python",
   "name": "python3"
  },
  "language_info": {
   "codemirror_mode": {
    "name": "ipython",
    "version": 3
   },
   "file_extension": ".py",
   "mimetype": "text/x-python",
   "name": "python",
   "nbconvert_exporter": "python",
   "pygments_lexer": "ipython3",
   "version": "3.11.5"
  }
 },
 "nbformat": 4,
 "nbformat_minor": 5
}
