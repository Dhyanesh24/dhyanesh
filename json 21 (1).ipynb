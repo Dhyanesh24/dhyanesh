{
 "cells": [
  {
   "cell_type": "code",
   "execution_count": 2,
   "id": "306858b7",
   "metadata": {},
   "outputs": [],
   "source": [
    "f=open(\"D:\\sait.txt\",\"w\")\n",
    "f.write(\"Wake up early\\n\")\n",
    "f.write(\"Read daily\\n\")\n",
    "f.write(\"Pray to god\\n\")\n",
    "f.close()"
   ]
  },
  {
   "cell_type": "code",
   "execution_count": 3,
   "id": "d1be7bfd",
   "metadata": {},
   "outputs": [
    {
     "name": "stdout",
     "output_type": "stream",
     "text": [
      "Wake up early\n",
      "\n",
      "Read daily\n",
      "\n",
      "Pray to god\n",
      "\n"
     ]
    }
   ],
   "source": [
    "a=open(\"D:\\sait.txt\",\"r\")\n",
    "print(a.readline())\n",
    "print(a.readline())\n",
    "print(a.readline())\n",
    "a.close()"
   ]
  },
  {
   "cell_type": "code",
   "execution_count": 4,
   "id": "15ac974e",
   "metadata": {},
   "outputs": [
    {
     "name": "stdout",
     "output_type": "stream",
     "text": [
      "Wake up early\n",
      "Read daily\n",
      "Pray to god\n",
      "Help others\n",
      "Be smart\n",
      "\n"
     ]
    }
   ],
   "source": [
    "b=open(\"D:\\sait.txt\",\"a\")\n",
    "b.write(\"Help others\\n\")\n",
    "b.write(\"Be smart\\n\")\n",
    "b.close()\n",
    "c=open(\"D:\\sait.txt\",\"r\")\n",
    "print(c.read())\n",
    "c.close()"
   ]
  },
  {
   "cell_type": "code",
   "execution_count": 5,
   "id": "53ca2538",
   "metadata": {},
   "outputs": [
    {
     "name": "stdout",
     "output_type": "stream",
     "text": [
      "['Wake up early\\n', 'Read daily\\n', 'Pray to god\\n', 'Help others\\n', 'Be smart\\n']\n"
     ]
    }
   ],
   "source": [
    "with open(\"D:\\sait.txt\",\"r\") as file:\n",
    "    lines=file.readlines()\n",
    "    print(lines)"
   ]
  },
  {
   "cell_type": "code",
   "execution_count": 6,
   "id": "c670583d",
   "metadata": {},
   "outputs": [
    {
     "name": "stdout",
     "output_type": "stream",
     "text": [
      "London\n"
     ]
    }
   ],
   "source": [
    "import json\n",
    "x='{\"name\":\"Sai\",\"age\":20,\"city\":\"London\"}'\n",
    "y=json.loads(x)\n",
    "print(y[\"city\"])"
   ]
  },
  {
   "cell_type": "code",
   "execution_count": 7,
   "id": "837b7e99",
   "metadata": {},
   "outputs": [
    {
     "name": "stdout",
     "output_type": "stream",
     "text": [
      "\"{\\\"name\\\":\\\"Sai\\\",\\\"age\\\":20,\\\"city\\\":\\\"London\\\"}\"\n"
     ]
    }
   ],
   "source": [
    "x='{\"name\":\"Sai\",\"age\":20,\"city\":\"London\"}'\n",
    "y=json.dumps(x)\n",
    "print(y)"
   ]
  },
  {
   "cell_type": "code",
   "execution_count": null,
   "id": "9e08ba36",
   "metadata": {},
   "outputs": [],
   "source": []
  }
 ],
 "metadata": {
  "kernelspec": {
   "display_name": "Python 3 (ipykernel)",
   "language": "python",
   "name": "python3"
  },
  "language_info": {
   "codemirror_mode": {
    "name": "ipython",
    "version": 3
   },
   "file_extension": ".py",
   "mimetype": "text/x-python",
   "name": "python",
   "nbconvert_exporter": "python",
   "pygments_lexer": "ipython3",
   "version": "3.11.3"
  }
 },
 "nbformat": 4,
 "nbformat_minor": 5
}
