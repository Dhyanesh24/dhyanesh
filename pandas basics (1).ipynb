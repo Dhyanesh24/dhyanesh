{
 "cells": [
  {
   "cell_type": "code",
   "execution_count": 2,
   "id": "c1736763",
   "metadata": {},
   "outputs": [
    {
     "name": "stdout",
     "output_type": "stream",
     "text": [
      "\n",
      " Series to DataFrame:\n",
      "\n",
      "         EMP  ID\n",
      "0   Dharshan  80\n",
      "1     Sudeep  90\n",
      "2       Siva  28\n",
      "3       Yash  57\n",
      "4  Keerthana  49\n"
     ]
    }
   ],
   "source": [
    "import pandas as pd\n",
    "emp=pd.Series(['Dharshan','Sudeep','Siva','Yash','Keerthana'])\n",
    "id=pd.Series([80,90,28,57,49])\n",
    "frame={'EMP':emp,'ID':id}\n",
    "result=pd.DataFrame(frame)\n",
    "print(\"\\n Series to DataFrame:\\n\")\n",
    "print(result)"
   ]
  },
  {
   "cell_type": "code",
   "execution_count": 3,
   "id": "f632518d",
   "metadata": {},
   "outputs": [
    {
     "name": "stdout",
     "output_type": "stream",
     "text": [
      "\n",
      " Extract one column:\n",
      "\n",
      "0     Dharshan\n",
      "1       Sudeep\n",
      "2         Siva\n",
      "3         Yash\n",
      "4    Keerthana\n",
      "Name: EMP, dtype: object\n"
     ]
    }
   ],
   "source": [
    "print(\"\\n Extract one column:\\n\")\n",
    "print(result['EMP'])\n"
   ]
  },
  {
   "cell_type": "code",
   "execution_count": 6,
   "id": "ad1c7566",
   "metadata": {},
   "outputs": [
    {
     "name": "stdout",
     "output_type": "stream",
     "text": [
      "\n",
      " Adding new columns:\n",
      "\n",
      "         EMP  ID  Age\n",
      "0   Dharshan   8   28\n",
      "1     Sudeep  90   32\n",
      "2       Siva  28   47\n",
      "3       Yash  57   52\n",
      "4  Keerthana  49   61\n"
     ]
    }
   ],
   "source": [
    "print(\"\\n Adding new columns:\\n\")\n",
    "result['ID']=pd.Series([8,90,28,57,49])\n",
    "result['Age']=pd.Series([28,32,47,52,61])\n",
    "print(result)"
   ]
  },
  {
   "cell_type": "code",
   "execution_count": 7,
   "id": "05b1979d",
   "metadata": {},
   "outputs": [
    {
     "name": "stdout",
     "output_type": "stream",
     "text": [
      "\n",
      " Deleting new column:\n",
      "\n",
      "         EMP  ID\n",
      "0   Dharshan   8\n",
      "1     Sudeep  90\n",
      "2       Siva  28\n",
      "3       Yash  57\n",
      "4  Keerthana  49\n"
     ]
    }
   ],
   "source": [
    "print(\"\\n Deleting new column:\\n\")\n",
    "del result['Age']\n",
    "print(result)"
   ]
  },
  {
   "cell_type": "code",
   "execution_count": 9,
   "id": "93c8d83b",
   "metadata": {},
   "outputs": [
    {
     "name": "stdout",
     "output_type": "stream",
     "text": [
      "\n",
      " Extracting the second row:\n",
      "\n",
      "EMP    Sudeep\n",
      "ID         90\n",
      "Name: 1, dtype: object\n"
     ]
    }
   ],
   "source": [
    "print(\"\\n Extracting the second row:\\n\")\n",
    "print(result.loc[1])"
   ]
  },
  {
   "cell_type": "code",
   "execution_count": 20,
   "id": "3e2e7276",
   "metadata": {},
   "outputs": [
    {
     "name": "stdout",
     "output_type": "stream",
     "text": [
      "\n",
      " Adding row values:\n",
      "          EMP   ID\n",
      "0   Dharshan    8\n",
      "1     Sudeep   90\n",
      "2       Siva   28\n",
      "3       Yash   57\n",
      "4  Keerthana   49\n",
      "0      vicky  100\n",
      "1     rashid  110\n"
     ]
    }
   ],
   "source": [
    "d2=pd.DataFrame([['vicky',100],['rashid',110]],columns=['EMP','ID'])\n",
    "print(\"\\n Adding row values:\\n\", pd.concat([result,d2]))"
   ]
  },
  {
   "cell_type": "code",
   "execution_count": null,
   "id": "87567ac0",
   "metadata": {},
   "outputs": [],
   "source": []
  }
 ],
 "metadata": {
  "kernelspec": {
   "display_name": "Python 3 (ipykernel)",
   "language": "python",
   "name": "python3"
  },
  "language_info": {
   "codemirror_mode": {
    "name": "ipython",
    "version": 3
   },
   "file_extension": ".py",
   "mimetype": "text/x-python",
   "name": "python",
   "nbconvert_exporter": "python",
   "pygments_lexer": "ipython3",
   "version": "3.11.3"
  }
 },
 "nbformat": 4,
 "nbformat_minor": 5
}
