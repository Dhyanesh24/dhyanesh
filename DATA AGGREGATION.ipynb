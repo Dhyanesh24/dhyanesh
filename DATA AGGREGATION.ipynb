{
 "cells": [
  {
   "cell_type": "code",
   "execution_count": 2,
   "id": "0bc7da3e",
   "metadata": {},
   "outputs": [
    {
     "name": "stdout",
     "output_type": "stream",
     "text": [
      "       A      B  C  D  E\n",
      "0    Sai    One  3  2  4\n",
      "1   Subu    Two  0  4  2\n",
      "2  Divya  Three  4  2  0\n",
      "3   Yuvi    One  2  1  2\n",
      "4  Rithi  Three  2  3  3\n",
      "5  Sangi    Two  2  0  0\n"
     ]
    }
   ],
   "source": [
    "import pandas as pd\n",
    "import numpy as np\n",
    "df=pd.DataFrame({'A':['Sai','Subu','Divya','Yuvi','Rithi','Sangi'],'B':['One','Two','Three','One','Three','Two'],\n",
    "                 'C':np.random.randint(5,size=6),'D':np.random.randint(5,size=6),'E':np.random.randint(5,size=6)})\n",
    "print(df)"
   ]
  },
  {
   "cell_type": "code",
   "execution_count": 3,
   "id": "af780b61",
   "metadata": {},
   "outputs": [
    {
     "name": "stdout",
     "output_type": "stream",
     "text": [
      "       A      B  C  D  E\n",
      "0    Sai    One  3  3  4\n",
      "1    Poo    Two  3  2  2\n",
      "2    Sub  Three  4  4  2\n",
      "3   Yuvi    One  0  1  0\n",
      "4  Rithi  Three  0  2  2\n",
      "5  Sangu    Two  4  1  0\n",
      "6    Sai    One  3  4  2\n",
      "7    Poo    Two  0  4  2\n",
      "       A  C\n",
      "0    Poo  3\n",
      "1  Rithi  0\n",
      "2    Sai  6\n",
      "3  Sangu  4\n",
      "4    Sub  4\n",
      "5   Yuvi  0\n"
     ]
    }
   ],
   "source": [
    "import pandas as pd\n",
    "import numpy as np\n",
    "df=pd.DataFrame({'A':['Sai','Poo','Sub','Yuvi','Rithi','Sangu','Sai','Poo'],'B':['One','Two','Three','One','Three','Two','One','Two'],\n",
    "                 'C':np.random.randint(5,size=8),'D':np.random.randint(5,size=8),'E':np.random.randint(5,size=8)})\n",
    "print(df)\n",
    "df1=df.groupby(['A'],as_index=False)['C'].sum()\n",
    "print(df1)"
   ]
  },
  {
   "cell_type": "code",
   "execution_count": 4,
   "id": "5fb59ca8",
   "metadata": {},
   "outputs": [
    {
     "name": "stdout",
     "output_type": "stream",
     "text": [
      "       A      B  C  D  E\n",
      "0    Sai    One  4  4  0\n",
      "1    Poo    Two  0  1  4\n",
      "2    Sub  Three  0  3  1\n",
      "3   Yuvi    One  2  2  0\n",
      "4  Rithi  Three  1  4  3\n",
      "5  Sangu    Two  2  4  2\n",
      "6    Sai    One  3  1  0\n",
      "7    Poo    Two  1  0  0\n",
      "       A      B  C  D\n",
      "0    Poo    Two  1  1\n",
      "1  Rithi  Three  1  4\n",
      "2    Sai    One  7  5\n",
      "3  Sangu    Two  2  4\n",
      "4    Sub  Three  0  3\n",
      "5   Yuvi    One  2  2\n"
     ]
    },
    {
     "name": "stderr",
     "output_type": "stream",
     "text": [
      "/var/folders/hn/lk6jpwx12ks8j5rs53v__39r0000gp/T/ipykernel_1134/3643365678.py:6: FutureWarning: Indexing with multiple keys (implicitly converted to a tuple of keys) will be deprecated, use a list instead.\n",
      "  df1=df.groupby(['A','B'],as_index=False)['C','D'].sum()\n"
     ]
    }
   ],
   "source": [
    "import pandas as pd\n",
    "import numpy as np\n",
    "df=pd.DataFrame({'A':['Sai','Poo','Sub','Yuvi','Rithi','Sangu','Sai','Poo'],'B':['One','Two','Three','One','Three','Two','One','Two'],\n",
    "                 'C':np.random.randint(5,size=8),'D':np.random.randint(5,size=8),'E':np.random.randint(5,size=8)})\n",
    "print(df)\n",
    "df1=df.groupby(['A','B'],as_index=False)['C','D'].sum()\n",
    "print(df1)"
   ]
  },
  {
   "cell_type": "code",
   "execution_count": 5,
   "id": "19b5fe39",
   "metadata": {},
   "outputs": [
    {
     "name": "stdout",
     "output_type": "stream",
     "text": [
      "\n",
      " Orginal dataframe:\n",
      "   Category  Sales  Profit\n",
      "0        A    100      10\n",
      "1        B    200      15\n",
      "2        C    150      20\n",
      "3        A    150      25\n",
      "4        B    130      30\n",
      "5        C    200      15\n"
     ]
    }
   ],
   "source": [
    "import pandas as pd\n",
    "import numpy as np\n",
    "df=pd.DataFrame({'Category':['A','B','C','A','B','C'],'Sales':[100,200,150,150,130,200],'Profit':[10,15,20,25,30,15]})\n",
    "print(\"\\n Orginal dataframe:\\n\",df)\n"
   ]
  },
  {
   "cell_type": "code",
   "execution_count": 7,
   "id": "03b89a33",
   "metadata": {},
   "outputs": [
    {
     "name": "stdout",
     "output_type": "stream",
     "text": [
      "         Sales        Profit    \n",
      "           sum   mean    sum max\n",
      "Category                        \n",
      "A          250  125.0     35  25\n",
      "B          330  165.0     45  30\n",
      "C          350  175.0     35  20\n"
     ]
    }
   ],
   "source": [
    "df_grouped=df.groupby('Category').agg({'Sales':['sum','mean'],'Profit':['sum','max']})\n",
    "print(df_grouped)"
   ]
  },
  {
   "cell_type": "code",
   "execution_count": null,
   "id": "f9141d60",
   "metadata": {},
   "outputs": [],
   "source": []
  }
 ],
 "metadata": {
  "kernelspec": {
   "display_name": "Python 3 (ipykernel)",
   "language": "python",
   "name": "python3"
  },
  "language_info": {
   "codemirror_mode": {
    "name": "ipython",
    "version": 3
   },
   "file_extension": ".py",
   "mimetype": "text/x-python",
   "name": "python",
   "nbconvert_exporter": "python",
   "pygments_lexer": "ipython3",
   "version": "3.11.5"
  }
 },
 "nbformat": 4,
 "nbformat_minor": 5
}
