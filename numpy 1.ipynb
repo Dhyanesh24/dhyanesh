{
 "cells": [
  {
   "cell_type": "code",
   "execution_count": 1,
   "id": "df6ea394",
   "metadata": {},
   "outputs": [
    {
     "name": "stdout",
     "output_type": "stream",
     "text": [
      "one dimentinal array: [10 20 30 40 50]\n"
     ]
    }
   ],
   "source": [
    "import numpy as np\n",
    "a=np.array([10,20,30,40,50])\n",
    "print (\"one dimentinal array:\",a)\n"
   ]
  },
  {
   "cell_type": "code",
   "execution_count": 2,
   "id": "8276651b",
   "metadata": {},
   "outputs": [
    {
     "name": "stdout",
     "output_type": "stream",
     "text": [
      "two dimential array: [[ 10  20  30  40  50]\n",
      " [ 60  70  80  90 100]]\n"
     ]
    }
   ],
   "source": [
    "import numpy as np\n",
    "a=np.array([[10,20,30,40,50,],[60,70,80,90,100]])\n",
    "print (\"two dimential array:\",a)"
   ]
  },
  {
   "cell_type": "code",
   "execution_count": 3,
   "id": "c742104c",
   "metadata": {},
   "outputs": [
    {
     "name": "stdout",
     "output_type": "stream",
     "text": [
      "\n",
      " Array with all zero:\n",
      " [[0. 0. 0. 0. 0.]\n",
      " [0. 0. 0. 0. 0.]\n",
      " [0. 0. 0. 0. 0.]]\n"
     ]
    }
   ],
   "source": [
    "import numpy as np \n",
    "c=np.zeros((3,5))\n",
    "print(\"\\n Array with all zero:\\n\",c)"
   ]
  },
  {
   "cell_type": "code",
   "execution_count": 4,
   "id": "46c72009",
   "metadata": {},
   "outputs": [
    {
     "name": "stdout",
     "output_type": "stream",
     "text": [
      "\n",
      " Random value :\n",
      " [[0.05678255 0.6736792 ]\n",
      " [0.25912501 0.23302842]]\n"
     ]
    }
   ],
   "source": [
    "import numpy as np\n",
    "c=np.random.random((2,2))\n",
    "print(\"\\n Random value :\\n\",c) \n"
   ]
  },
  {
   "cell_type": "code",
   "execution_count": 5,
   "id": "e684a498",
   "metadata": {},
   "outputs": [
    {
     "name": "stdout",
     "output_type": "stream",
     "text": [
      "\n",
      " Range value :\n",
      " [ 25 125 225 325 425]\n"
     ]
    }
   ],
   "source": [
    "import numpy as np\n",
    "s=np.arange (25,500,100)\n",
    "print(\"\\n Range value :\\n\",s)"
   ]
  },
  {
   "cell_type": "code",
   "execution_count": 6,
   "id": "9a3e4419",
   "metadata": {},
   "outputs": [
    {
     "name": "stdout",
     "output_type": "stream",
     "text": [
      "\n",
      " original array\n",
      " [[1 2 3 9]\n",
      " [4 5 6 3]\n",
      " [7 8 9 6]]\n",
      "\n",
      " Reshape array[4,3] \n",
      " [[1 2 3]\n",
      " [9 4 5]\n",
      " [6 3 7]\n",
      " [8 9 6]]\n"
     ]
    }
   ],
   "source": [
    "\n",
    "import numpy as np\n",
    "arr=np.array([[1,2,3,9],[4,5,6,3],[7,8,9,6]])\n",
    "newarr=arr.reshape ((4,3))\n",
    "print(\"\\n original array\\n\",arr)\n",
    "print(\"\\n Reshape array[4,3] \\n\",newarr)\n"
   ]
  },
  {
   "cell_type": "code",
   "execution_count": 8,
   "id": "c9ac949f",
   "metadata": {},
   "outputs": [
    {
     "name": "stdout",
     "output_type": "stream",
     "text": [
      "\n",
      " Array with all zero:\n",
      " [[0. 0. 0.]\n",
      " [0. 0. 0.]\n",
      " [0. 0. 0.]\n",
      " [0. 0. 0.]\n",
      " [0. 0. 0.]]\n",
      "\n",
      " Random value :\n",
      " [1 2 3 4 5 6 7 8 9]\n",
      "\n",
      " Range value :\n",
      " [1 2 3 4 5 6 7 8 9]\n",
      "\n",
      " Reshape array:\n",
      " [[1 2 3]\n",
      " [9 4 5]\n",
      " [6 3 7]\n",
      " [8 9 6]]\n"
     ]
    }
   ],
   "source": [
    "import numpy as np\n",
    "a=np.zeros((5,3))\n",
    "c=np.random.random((5,3))\n",
    "c=np.arange(1,10,1)\n",
    "arr=np.array([[1,2,3],[4,5,6],[7,8,9],[6,2,4],[1,4,3]])\n",
    "d=arr.reshape((3,5))\n",
    "print(\"\\n Array with all zero:\\n\",a)\n",
    "print(\"\\n Random value :\\n\",c) \n",
    "print(\"\\n Range value :\\n\",c)\n",
    "print(\"\\n Reshape array:\\n\",newarr)\n",
    "\n",
    "\n"
   ]
  },
  {
   "cell_type": "code",
   "execution_count": 9,
   "id": "151b73f3",
   "metadata": {},
   "outputs": [
    {
     "name": "stdout",
     "output_type": "stream",
     "text": [
      "Flatten array:\n",
      " [1 2 3 4 5 6 1 4 3]\n"
     ]
    }
   ],
   "source": [
    "import numpy as n\n",
    "arr=np.array([[1,2,3],[4,5,6],[1,4,3]])\n",
    "flat=arr.flatten()\n",
    "print(\"Flatten array:\\n\",flat)"
   ]
  },
  {
   "cell_type": "code",
   "execution_count": 10,
   "id": "ff9513a4",
   "metadata": {},
   "outputs": [
    {
     "name": "stdout",
     "output_type": "stream",
     "text": [
      "\n",
      " No.of dimensions : 2\n"
     ]
    }
   ],
   "source": [
    "import numpy as np\n",
    "arr=np.array([[2,4,6,],[4,8,2]])\n",
    "print(\"\\n No.of dimensions :\",arr.ndim)"
   ]
  },
  {
   "cell_type": "code",
   "execution_count": 2,
   "id": "c1238771",
   "metadata": {},
   "outputs": [
    {
     "name": "stdout",
     "output_type": "stream",
     "text": [
      "\n",
      " Array element type: int32\n"
     ]
    }
   ],
   "source": [
    "import numpy as np \n",
    "arr=np.array([[2,6,8],[4,8,2]])\n",
    "print(\"\\n Array element type:\",arr.dtype)"
   ]
  },
  {
   "cell_type": "code",
   "execution_count": 3,
   "id": "e0625103",
   "metadata": {},
   "outputs": [
    {
     "name": "stdout",
     "output_type": "stream",
     "text": [
      "\n",
      " covert array element :\n",
      " [[2. 6. 8.]\n",
      " [4. 8. 2.]]\n",
      "\n",
      " coverted array: float32\n"
     ]
    }
   ],
   "source": [
    "import numpy as np \n",
    "arr=np.array([[2,6,8],[4,8,2]])\n",
    "newtype=arr.astype('f')\n",
    "print(\"\\n covert array element :\\n\",newtype)\n",
    "print(\"\\n coverted array:\",newtype.dtype)"
   ]
  },
  {
   "cell_type": "code",
   "execution_count": 8,
   "id": "96ebb76d",
   "metadata": {},
   "outputs": [
    {
     "name": "stdout",
     "output_type": "stream",
     "text": [
      "\n",
      " size of array :\n",
      " 6\n"
     ]
    }
   ],
   "source": [
    "import numpy as np \n",
    "arr=np.array([[2,6,8],[4,8,2]])\n",
    "print(\"\\n size of array :\\n\",arr.size)"
   ]
  },
  {
   "cell_type": "code",
   "execution_count": null,
   "id": "469a4ee0",
   "metadata": {},
   "outputs": [],
   "source": []
  }
 ],
 "metadata": {
  "kernelspec": {
   "display_name": "Python 3 (ipykernel)",
   "language": "python",
   "name": "python3"
  },
  "language_info": {
   "codemirror_mode": {
    "name": "ipython",
    "version": 3
   },
   "file_extension": ".py",
   "mimetype": "text/x-python",
   "name": "python",
   "nbconvert_exporter": "python",
   "pygments_lexer": "ipython3",
   "version": "3.11.3"
  }
 },
 "nbformat": 4,
 "nbformat_minor": 5
}
